{
 "cells": [
  {
   "cell_type": "code",
   "execution_count": 1,
   "metadata": {
    "id": "MDljBTvgPKDu"
   },
   "outputs": [],
   "source": [
    "import random #para gerar números pseudo-aleatórios"
   ]
  },
  {
   "cell_type": "code",
   "execution_count": 2,
   "metadata": {
    "colab": {
     "base_uri": "https://localhost:8080/"
    },
    "id": "u-yhhhlOPK7k",
    "outputId": "b0c06860-d4f0-4d55-9a56-811c90c5608c"
   },
   "outputs": [
    {
     "name": "stdout",
     "output_type": "stream",
     "text": [
      "Você gostaria de jogar o dado? sim\n",
      "O número que caiu foi: 6\n",
      "Deseja jogar novamente (SIM OU NÃO)? nao\n"
     ]
    }
   ],
   "source": [
    "dado = input('Você gostaria de jogar o dado? ')\n",
    "\n",
    "while dado:\n",
    "    dado = dado.strip().upper()  #strip remove caracteres especiais\n",
    "    numero = random.randrange(1, 7) #randrange traz um número aleatório\n",
    "\n",
    "    if(dado == 'SIM'):\n",
    "        print(f'O número que caiu foi: {numero}')\n",
    "        dado = input('Deseja jogar novamente (SIM OU NÃO)? ').upper()\n",
    "\n",
    "    elif(dado == 'NÃO' or dado =='NAO'):\n",
    "        break\n"
   ]
  },
  {
   "cell_type": "code",
   "execution_count": 3,
   "metadata": {
    "colab": {
     "base_uri": "https://localhost:8080/"
    },
    "id": "97n_ClqSDdBa",
    "outputId": "684218e3-c2cd-4c50-8e0c-8a2aa745364e"
   },
   "outputs": [
    {
     "name": "stdout",
     "output_type": "stream",
     "text": [
      "Qual o número que você tirou no dado? 6\n",
      "Avance 6 casas\n"
     ]
    }
   ],
   "source": [
    "casa = input('Qual o número que você tirou no dado? ')\n",
    "numero_de_casas = {casa}\n",
    "print(f'Avance {casa} casas')"
   ]
  },
  {
   "cell_type": "code",
   "execution_count": 4,
   "metadata": {
    "colab": {
     "base_uri": "https://localhost:8080/"
    },
    "id": "HMfBbRCwRSR0",
    "outputId": "1c507b06-9fbc-495f-da53-9afd81a446c6"
   },
   "outputs": [
    {
     "name": "stdout",
     "output_type": "stream",
     "text": [
      "Você está na casa 6, você ganhou R$ 70\n"
     ]
    }
   ],
   "source": [
    "if casa == '1':\n",
    "  print('Você está na casa 1, você ganhou R$ 100')\n",
    "\n",
    "elif casa == '2':\n",
    "  print('Você está na casa 2, você ganhou R$ 150')\n",
    "\n",
    "elif casa == '3':\n",
    "  print('Você está na casa 3, você perdeu R$ 100')\n",
    "\n",
    "elif casa == '4':\n",
    "  print('Você está na casa 4, volte para a primeira casa')\n",
    "\n",
    "elif casa == '5':\n",
    "  print('Você está na casa 5, você ganhou R$ 100')\n",
    "\n",
    "elif casa == '6':\n",
    "  print('Você está na casa 6, você ganhou R$ 70')\n",
    "\n",
    "else:\n",
    "  print('Número incorreto')"
   ]
  },
  {
   "cell_type": "code",
   "execution_count": null,
   "metadata": {},
   "outputs": [],
   "source": [
    "dado = input('Você gostaria de jogar o dado? ')\n",
    "\n",
    "while dado:\n",
    "    dado = dado.strip().upper()  #strip remove caracteres especiais\n",
    "    numero = random.randrange(1, 7) #randrange traz um número aleatório\n",
    "\n",
    "    if(dado == 'SIM'):\n",
    "        print(f'O número que caiu foi: {numero}')\n",
    "        dado = input('Deseja jogar novamente (SIM OU NÃO)? ').upper()\n",
    "\n",
    "    elif(dado == 'NÃO' or dado =='NAO'):\n",
    "        break"
   ]
  },
  {
   "cell_type": "code",
   "execution_count": 16,
   "metadata": {
    "colab": {
     "base_uri": "https://localhost:8080/"
    },
    "id": "jCGPYvKXBsHP",
    "outputId": "6007a660-5440-49c9-f30f-6d8ef9d50506"
   },
   "outputs": [
    {
     "name": "stdout",
     "output_type": "stream",
     "text": [
      "Qual a sua posição no jogo? 7\n"
     ]
    }
   ],
   "source": [
    "casa_2 = input('Qual a sua posição no jogo? ')"
   ]
  },
  {
   "cell_type": "code",
   "execution_count": 26,
   "metadata": {
    "id": "qY_r715ZExkF"
   },
   "outputs": [
    {
     "name": "stdout",
     "output_type": "stream",
     "text": [
      "Você está na casa 8, você ganhou R$ 150\n"
     ]
    }
   ],
   "source": [
    "if casa_2 == '7':\n",
    "  print('Você está na casa 7, você ganhou R$ 100')\n",
    "\n",
    "elif casa_2 == '8':\n",
    "  print('Você está na casa 8, você ganhou R$ 150')\n",
    "\n",
    "elif casa_2 == '9':\n",
    "  print('Você está na casa 9, você perdeu R$ 100')\n",
    "\n",
    "elif casa_2 == '10':\n",
    "  print('Você está na casa 10, você perdeu R$ 80')\n",
    "\n",
    "elif casa_2 == '11':\n",
    "  print('Você está na casa 11, você ganhou R$ 100')\n",
    "\n",
    "elif casa_2 == '12':\n",
    "  print('Você está na casa 12, você ganhou R$ 70')\n",
    "\n",
    "else:\n",
    "  print('Número incorreto')"
   ]
  },
  {
   "cell_type": "code",
   "execution_count": 27,
   "metadata": {},
   "outputs": [
    {
     "name": "stdout",
     "output_type": "stream",
     "text": [
      "Você gostaria de jogar o dado? sim\n",
      "O número que caiu foi: 5\n",
      "Deseja jogar novamente (SIM OU NÃO)? nao\n"
     ]
    }
   ],
   "source": [
    "dado = input('Você gostaria de jogar o dado? ')\n",
    "\n",
    "while dado:\n",
    "    dado = dado.strip().upper()  #strip remove caracteres especiais\n",
    "    numero = random.randrange(1, 7) #randrange traz um número aleatório\n",
    "\n",
    "    if(dado == 'SIM'):\n",
    "        print(f'O número que caiu foi: {numero}')\n",
    "        dado = input('Deseja jogar novamente (SIM OU NÃO)? ').upper()\n",
    "\n",
    "    elif(dado == 'NÃO' or dado =='NAO'):\n",
    "        break"
   ]
  },
  {
   "cell_type": "code",
   "execution_count": 17,
   "metadata": {},
   "outputs": [
    {
     "name": "stdout",
     "output_type": "stream",
     "text": [
      "Qual a sua posição no jogo? 13\n"
     ]
    }
   ],
   "source": [
    "casa_3 = input('Qual a sua posição no jogo? ')"
   ]
  },
  {
   "cell_type": "code",
   "execution_count": 18,
   "metadata": {},
   "outputs": [
    {
     "name": "stdout",
     "output_type": "stream",
     "text": [
      "Você está na casa 13, você ganhou R$ 100\n"
     ]
    }
   ],
   "source": [
    "if casa_3 == '13':\n",
    "  print('Você está na casa 13, você ganhou R$ 100')\n",
    "\n",
    "elif casa_3 == '14':\n",
    "  print('Você está na casa 14, você ganhou R$ 150')\n",
    "\n",
    "elif casa_3 == '15':\n",
    "  print('Você está na casa 15, você perdeu R$ 100')\n",
    "\n",
    "elif casa_3 == '16':\n",
    "  print('Você está na casa 16, você perdeu R$ 80')\n",
    "\n",
    "elif casa_3 == '17':\n",
    "  print('Você está na casa 17, você ganhou R$ 100')\n",
    "\n",
    "elif casa_3 == '18':\n",
    "  print('Você está na casa 18, você ganhou R$ 70')\n",
    "\n",
    "else:\n",
    "  print('Número incorreto')"
   ]
  },
  {
   "cell_type": "code",
   "execution_count": null,
   "metadata": {},
   "outputs": [],
   "source": []
  }
 ],
 "metadata": {
  "colab": {
   "name": "Jogo de Dado.ipynb",
   "provenance": []
  },
  "kernelspec": {
   "display_name": "Python 3 (ipykernel)",
   "language": "python",
   "name": "python3"
  },
  "language_info": {
   "codemirror_mode": {
    "name": "ipython",
    "version": 3
   },
   "file_extension": ".py",
   "mimetype": "text/x-python",
   "name": "python",
   "nbconvert_exporter": "python",
   "pygments_lexer": "ipython3",
   "version": "3.9.7"
  }
 },
 "nbformat": 4,
 "nbformat_minor": 1
}
